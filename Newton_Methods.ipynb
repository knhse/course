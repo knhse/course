{
  "cells": [
    {
      "cell_type": "code",
      "execution_count": 23,
      "id": "f4fd9b59",
      "metadata": {
        "id": "f4fd9b59",
        "colab": {
          "base_uri": "https://localhost:8080/"
        },
        "outputId": "f9d446b8-973f-41b5-f7a1-c0f71ffa5c2f"
      },
      "outputs": [
        {
          "output_type": "stream",
          "name": "stdout",
          "text": [
            "Requirement already satisfied: interval-py in /usr/local/lib/python3.10/dist-packages (0.0.3.1)\n"
          ]
        }
      ],
      "source": [
        "# раскомментировать при необходимости\n",
        "#!pip install interval-py\n",
        "import sympy as sym\n",
        "import intervalpy as ival\n",
        "import numpy as np"
      ]
    },
    {
      "cell_type": "code",
      "execution_count": 24,
      "id": "d3cc0cd0",
      "metadata": {
        "id": "d3cc0cd0"
      },
      "outputs": [],
      "source": [
        "# функция пример 1\n",
        "def f(x):\n",
        "    return x ** 2 - 2\n",
        "\n",
        "# производная функции 1\n",
        "def df(x):\n",
        "    return 2 * x"
      ]
    },
    {
      "cell_type": "code",
      "execution_count": 25,
      "id": "4a8daea3",
      "metadata": {
        "id": "4a8daea3"
      },
      "outputs": [],
      "source": [
        "# функция пример 2\n",
        "def f1(x):\n",
        "    return (x + 1) ** 3 / (x ** 2) - 7.1\n",
        "\n",
        "def f1_symbolic():\n",
        "    x = sym.Symbol(\"x\")\n",
        "    f = (x + 1) ** 3 / (x ** 2) - 7.1\n",
        "    return f, x"
      ]
    },
    {
      "cell_type": "code",
      "execution_count": 26,
      "id": "329b3306",
      "metadata": {
        "id": "329b3306"
      },
      "outputs": [],
      "source": [
        "# функция пример 3\n",
        "def f2_symbolic(n = 2):\n",
        "    x = sym.Symbol(\"x\")\n",
        "    f = 1\n",
        "    for i in range(n):\n",
        "        f *= (x - i)\n",
        "    return f, x"
      ]
    },
    {
      "cell_type": "code",
      "execution_count": 27,
      "id": "d9191086",
      "metadata": {
        "id": "d9191086"
      },
      "outputs": [],
      "source": [
        "# функция пересечения 2 интервалов\n",
        "def intersec(a, b):\n",
        "    if a[1] < b[0] or b[1] < a[0]:\n",
        "            return None\n",
        "    else:\n",
        "        return ival.Interval([max(a[0], b[0]), min(a[1], b[1])])"
      ]
    },
    {
      "cell_type": "code",
      "execution_count": 28,
      "id": "0f538b20",
      "metadata": {
        "id": "0f538b20"
      },
      "outputs": [],
      "source": [
        "# функция пересечения множества интервалов\n",
        "def intersec_mi(mi1, mi2):\n",
        "    a = []\n",
        "    ch1 = False\n",
        "    ch2 = False\n",
        "    if type(mi1) == ival.Interval:\n",
        "        ch1 = True\n",
        "    if type(mi1) == ival.Interval:\n",
        "        ch2 = True\n",
        "    if ch1 and ch2:\n",
        "        intersection = intersec(mi1, mi2)\n",
        "        if type(intersection) != type(None):\n",
        "            return intersection\n",
        "    elif ch1 and not(ch2):\n",
        "        for ival1 in mi2:\n",
        "            intersection = intersec(ch1, ival1)\n",
        "            if type(intersection) != type(None):\n",
        "                a.append(intersection)\n",
        "    elif ch2 and not(ch1):\n",
        "        for ival1 in mi1:\n",
        "            intersection = intersec(ch2, ival1)\n",
        "            if type(intersection) != type(None):\n",
        "                a.append(intersection)\n",
        "    for ival1 in mi1:\n",
        "        for ival2 in mi2:\n",
        "            intersection = intersec(ival1, ival2)\n",
        "            if type(intersection) != type(None):\n",
        "                a.append(intersec(ival1, ival2))\n",
        "    return a"
      ]
    },
    {
      "cell_type": "code",
      "execution_count": 29,
      "id": "c5fe816c",
      "metadata": {
        "id": "c5fe816c"
      },
      "outputs": [],
      "source": [
        "def c_minus(x, df):\n",
        "        x_right = x[1]\n",
        "        x_left = x[0]\n",
        "        df_at_x_right = df[1]\n",
        "        df_at_x_left = df[0]\n",
        "\n",
        "        if df_at_x_right <= 0:\n",
        "            return x_right\n",
        "        elif df_at_x_left >= 0:\n",
        "            return x_left\n",
        "        else:\n",
        "            return (df_at_x_right * x_left - df_at_x_left * x_right) / (df_at_x_right - df_at_x_left)\n",
        "\n",
        "def c_plus(x, df):\n",
        "        x_right = x[1]\n",
        "        x_left = x[0]\n",
        "        df_at_x_right = df[1]\n",
        "        df_at_x_left = df[0]\n",
        "\n",
        "        if df_at_x_right <= 0:\n",
        "            return x_left\n",
        "        elif df_at_x_left >= 0:\n",
        "            return x_right\n",
        "        else:\n",
        "            return (df_at_x_left * x_left - df_at_x_right * x_right) / (df_at_x_left - df_at_x_right)\n",
        "\n",
        "# функция для бицентрированного оператора\n",
        "def bicentered_calcul(x, df):\n",
        "    c_l = c_minus(x, df)\n",
        "    c_u = c_plus(x, df)\n",
        "    return c_l, c_u"
      ]
    },
    {
      "cell_type": "code",
      "execution_count": 30,
      "id": "b4607965",
      "metadata": {
        "id": "b4607965"
      },
      "outputs": [],
      "source": [
        "# оператор Ньютона\n",
        "def Newton_method(f, df, x, midpoint):\n",
        "    return midpoint - f(midpoint) / df(x)\n",
        "\n",
        "# итеративная процедура\n",
        "def iterative_method(f, df, X_ini, epsilon=1e-6, max_iterations=1000, verbose=False, bicentered=False):\n",
        "    iterations_count = 0\n",
        "    roots = []\n",
        "    df0=0\n",
        "    if verbose:\n",
        "        print(\"ini x\", X_ini)\n",
        "    queue = [X_ini]\n",
        "    while len(queue)>0:\n",
        "        if verbose:\n",
        "            print(\"Iter\", iterations_count)\n",
        "            print(\"\\tqueue\", queue)\n",
        "        X = queue.pop(0)\n",
        "        if verbose:\n",
        "            print(\"\\tX\", X)\n",
        "        if ival.Interval([0, 0]).isIn(f(X)):\n",
        "            if iterations_count < max_iterations and X.width()>epsilon:\n",
        "                iterations_count +=1\n",
        "                if bicentered:\n",
        "                    c_l, c_h = bicentered_calcul(X, df(X))\n",
        "                    root_l = Newton_method(f, df, X, c_l)\n",
        "                    root_h = Newton_method(f, df, X, c_h)\n",
        "                    root = intersec_mi(root_l, root_h)\n",
        "                else:\n",
        "                    midpoint = X.mid()\n",
        "                    root = Newton_method(f, df, X, midpoint)\n",
        "                    print(root)\n",
        "                if verbose:\n",
        "                    print(\"\\tNewton\", root)\n",
        "                if type(root) != ival.interval.ExtendedInterval and type(root)!= list:\n",
        "                    root = [root]\n",
        "                for x_newton in root:\n",
        "                    x_intersec = intersec(x_newton, X)\n",
        "                    if type(x_intersec) != type(None):\n",
        "                        if x_intersec[0] == X[0] and x_intersec[1] == X[1]:\n",
        "                            queue.append(ival.Interval([X[0], midpoint]))\n",
        "                            queue.append(ival.Interval([midpoint, X[1]]))\n",
        "                        else:\n",
        "                            queue.append(x_intersec)\n",
        "\n",
        "            else:\n",
        "                if verbose:\n",
        "                    print(\"\\troot = \", X)\n",
        "                roots.append(X)\n",
        "    return roots, iterations_count"
      ]
    },
    {
      "cell_type": "code",
      "execution_count": 31,
      "id": "72a0985d",
      "metadata": {
        "colab": {
          "base_uri": "https://localhost:8080/"
        },
        "id": "72a0985d",
        "outputId": "36d0d4fe-110e-4bf0-cfa8-7820b023e6c1"
      },
      "outputs": [
        {
          "output_type": "stream",
          "name": "stdout",
          "text": [
            "Классический метод Ньютона\n",
            "[[-inf, -0.5], [0.5, inf]]\n",
            "[-1.688, -1.359]\n",
            "[1.359, 1.688]\n",
            "[-1.428, -1.405]\n",
            "[1.405, 1.428]\n",
            "[-1.414, -1.414]\n",
            "[1.414, 1.414]\n",
            "[-1.414, -1.414]\n",
            "[1.414, 1.414]\n",
            "Все корни уравнения: [[-1.414, -1.414], [1.414, 1.414]]\n",
            "Количество итераций 9\n",
            "Бицентрированный метод Ньютона\n",
            "Все корни уравнения: [[-1.414, -1.414], [1.414, 1.414]]\n",
            "Количество итераций 9\n"
          ]
        }
      ],
      "source": [
        "# инициализация интервала и вызов итеративной процедуры для функции 1\n",
        "intervals = ival.Interval([-2, 2])\n",
        "print(\"Классический метод Ньютона\")\n",
        "roots, iters = iterative_method(f, df, intervals, bicentered=False)\n",
        "print(\"Все корни уравнения:\", roots)\n",
        "print(\"Количество итераций\", iters)\n",
        "\n",
        "print(\"Бицентрированный метод Ньютона\")\n",
        "roots, iters = iterative_method(f, df, intervals, bicentered=True)\n",
        "print(\"Все корни уравнения:\", roots)\n",
        "print(\"Количество итераций\", iters)"
      ]
    },
    {
      "cell_type": "code",
      "execution_count": 32,
      "id": "4ea4e6fb",
      "metadata": {
        "id": "4ea4e6fb"
      },
      "outputs": [],
      "source": [
        "# расчет бицентрических центров\n",
        "def calculate_bicentered(x, df, coef=1.2):\n",
        "    c_l, c_h = bicentered_calcul(x, coef*df(x))\n",
        "    return c_l, c_h"
      ]
    },
    {
      "cell_type": "code",
      "execution_count": 33,
      "id": "e541cf99",
      "metadata": {
        "colab": {
          "base_uri": "https://localhost:8080/"
        },
        "id": "e541cf99",
        "outputId": "e279c6ef-6e66-4081-d6ca-0a9343816d6b"
      },
      "outputs": [
        {
          "output_type": "stream",
          "name": "stdout",
          "text": [
            "[[-inf, 3.6], [3.6, inf]]\n",
            "[[-inf, 1.9], [1.9, inf]]\n",
            "[[-inf, 5.174], [5.387, inf]]\n",
            "[[-inf, 1.049], [1.05, inf]]\n",
            "[[-inf, 2.745], [2.758, inf]]\n",
            "[[-inf, 4.249], [4.519, inf]]\n",
            "[[-inf, 5.683], [6.836, inf]]\n",
            "[[-inf, 0.612], [0.626, inf]]\n",
            "[[-inf, 1.472], [1.481, inf]]\n",
            "[[-inf, 2.298], [2.355, inf]]\n",
            "[[-inf, 3.159], [3.199, inf]]\n",
            "[[-inf, 3.754], [4.168, inf]]\n",
            "[[-inf, 4.402], [5.683, inf]]\n",
            "[[-inf, 0.352], [0.415, inf]]\n",
            "[[-inf, 0.767], [0.865, inf]]\n",
            "[[-inf, 1.246], [1.269, inf]]\n",
            "[[-inf, 1.662], [1.731, inf]]\n",
            "[[-inf, 2.038], [2.168, inf]]\n",
            "[[-inf, 2.488], [2.606, inf]]\n",
            "[[-inf, 2.953], [2.962, inf]]\n",
            "[[-inf, 3.311], [3.543, inf]]\n",
            "[[-inf, 3.376], [8.251, inf]]\n",
            "[[-inf, 0.763], [1.021, inf]]\n",
            "[[-inf, 1.061], [1.185, inf]]\n",
            "[[-inf, 1.369], [1.372, inf]]\n",
            "[[-inf, 1.528], [1.643, inf]]\n",
            "[[-inf, 1.713], [1.948, inf]]\n",
            "[[-inf, 1.803], [2.152, inf]]\n",
            "[[-inf, 1.991], [2.422, inf]]\n",
            "[[-inf, 2.165], [2.582, inf]]\n",
            "[[-inf, 2.461], [2.774, inf]]\n",
            "[[-inf, 2.786], [2.89, inf]]\n",
            "[[-inf, 3.036], [3.119, inf]]\n",
            "[[-inf, 3.13], [5.755, inf]]\n",
            "[1.275, 48.839]\n",
            "[[-inf, 1.269], [1.333, inf]]\n",
            "[[-inf, 1.403], [1.477, inf]]\n",
            "[[-inf, 1.426], [2.454, inf]]\n",
            "[2.926, 3.187]\n",
            "[2.955, 3.307]\n",
            "[2.777, 2.99]\n",
            "[2.87, 3.032]\n",
            "[1.359, 1.396]\n",
            "[1.322, 1.373]\n",
            "[2.98, 2.984]\n",
            "[1.365, 1.365]\n",
            "[2.981, 2.981]\n",
            "[1.365, 1.365]\n",
            "[2.981, 2.981]\n",
            "Все корни уравнения: [[1.365, 1.365], [2.981, 2.981]]\n",
            "Количество итераций 49\n",
            "Бицентрированный метод Ньютона\n",
            "Все корни уравнения: [[1.365, 1.365], [2.981, 2.981]]\n",
            "Количество итераций 43\n"
          ]
        }
      ],
      "source": [
        "f1_sym, x_sym = f1_symbolic()\n",
        "df1_sym = f1_sym.diff(x_sym)\n",
        "df1 = sym.lambdify(x_sym, df1_sym)\n",
        "#инициализация интервала и вызов итеративной процедуры для функции 2\n",
        "intervals = ival.Interval([0.2, 7])\n",
        "\n",
        "roots, iters = iterative_method(f1, df1, intervals, bicentered=False)\n",
        "print(\"Все корни уравнения:\", roots)\n",
        "print(\"Количество итераций\", iters)\n",
        "\n",
        "print(\"Бицентрированный метод Ньютона\")\n",
        "roots, iters = iterative_method(f1, df1, intervals, bicentered=True)\n",
        "print(\"Все корни уравнения:\", roots)\n",
        "print(\"Количество итераций\", iters)"
      ]
    },
    {
      "cell_type": "code",
      "execution_count": 34,
      "id": "0396d540",
      "metadata": {
        "colab": {
          "base_uri": "https://localhost:8080/"
        },
        "id": "0396d540",
        "outputId": "db7de5f3-d9d8-4bd7-d8a9-a350c7906d82"
      },
      "outputs": [
        {
          "output_type": "stream",
          "name": "stdout",
          "text": [
            "[-0.0, 0.0]\n",
            "[-0.0, 0.0]\n"
          ]
        }
      ],
      "source": [
        "# проверка работы программы для функции 2\n",
        "for root in roots:\n",
        "    print(f1(root))"
      ]
    },
    {
      "cell_type": "code",
      "execution_count": 35,
      "id": "cfff8a33",
      "metadata": {
        "colab": {
          "base_uri": "https://localhost:8080/"
        },
        "id": "cfff8a33",
        "outputId": "544258ca-eb36-4eab-cd87-68b0e2637792"
      },
      "outputs": [
        {
          "output_type": "stream",
          "name": "stdout",
          "text": [
            "x*(x - 7)*(x - 6)*(x - 5)*(x - 4)*(x - 3)*(x - 2)*(x - 1)\n",
            "x*(x - 7)*(x - 6)*(x - 5)*(x - 4)*(x - 3)*(x - 2) + x*(x - 7)*(x - 6)*(x - 5)*(x - 4)*(x - 3)*(x - 1) + x*(x - 7)*(x - 6)*(x - 5)*(x - 4)*(x - 2)*(x - 1) + x*(x - 7)*(x - 6)*(x - 5)*(x - 3)*(x - 2)*(x - 1) + x*(x - 7)*(x - 6)*(x - 4)*(x - 3)*(x - 2)*(x - 1) + x*(x - 7)*(x - 5)*(x - 4)*(x - 3)*(x - 2)*(x - 1) + x*(x - 6)*(x - 5)*(x - 4)*(x - 3)*(x - 2)*(x - 1) + (x - 7)*(x - 6)*(x - 5)*(x - 4)*(x - 3)*(x - 2)*(x - 1)\n",
            "[[-inf, 4.5], [4.5, inf]]\n",
            "[[-inf, 2.25], [2.25, inf]]\n",
            "[[-inf, 6.749], [6.751, inf]]\n",
            "[[-inf, 1.123], [1.127, inf]]\n",
            "[[-inf, 3.372], [3.379, inf]]\n",
            "[[-inf, 5.62], [5.63, inf]]\n",
            "[[-inf, 7.833], [8.369, inf]]\n",
            "[[-inf, 0.486], [0.592, inf]]\n",
            "[[-inf, 1.655], [1.707, inf]]\n",
            "[[-inf, 2.793], [2.822, inf]]\n",
            "[[-inf, 3.934], [3.943, inf]]\n",
            "[[-inf, 5.056], [5.067, inf]]\n",
            "[[-inf, 6.175], [6.222, inf]]\n",
            "[[-inf, 7.252], [7.56, inf]]\n",
            "[[-inf, 0.12], [0.361, inf]]\n",
            "[[-inf, 0.719], [0.89, inf]]\n",
            "[[-inf, 1.967], [1.983, inf]]\n",
            "[[-inf, 3.078], [3.14, inf]]\n",
            "[[-inf, 4.179], [4.314, inf]]\n",
            "[[-inf, 4.7], [4.827, inf]]\n",
            "[[-inf, 5.852], [5.927, inf]]\n",
            "[[-inf, 7.001], [7.005, inf]]\n",
            "[-0.064, 0.009]\n",
            "[0.942, 1.003]\n",
            "[[-inf, 2.063], [2.43, inf]]\n",
            "[[-inf, 2.593], [2.971, inf]]\n",
            "[[-inf, 4.034], [5.59, inf]]\n",
            "[[-inf, 3.862], [4.97, inf]]\n",
            "[5.715, 6.028]\n",
            "[[-inf, 6.287], [6.964, inf]]\n",
            "[-0.0, 0.0]\n",
            "[0.994, 1.006]\n",
            "[1.988, 2.006]\n",
            "[2.98, 3.008]\n",
            "[3.997, 4.007]\n",
            "[4.994, 5.004]\n",
            "[5.994, 6.015]\n",
            "[6.999, 7.003]\n",
            "[-0.0, 0.0]\n",
            "[1.0, 1.0]\n",
            "[2.0, 2.0]\n",
            "[2.999, 3.001]\n",
            "[4.0, 4.0]\n",
            "[5.0, 5.0]\n",
            "[6.0, 6.0]\n",
            "[7.0, 7.0]\n",
            "[1.0, 1.0]\n",
            "[2.0, 2.0]\n",
            "[3.0, 3.0]\n",
            "[4.0, 4.0]\n",
            "[5.0, 5.0]\n",
            "[6.0, 6.0]\n",
            "[7.0, 7.0]\n",
            "Все корни уравнения: [[0, 0.0], [1.0, 1.0], [2.0, 2.0], [3.0, 3.0], [4.0, 4.0], [5.0, 5.0], [6.0, 6.0], [7.0, 7.0]]\n",
            "Количество итераций 53\n",
            "Бицентрированный метод Ньютона\n",
            "Все корни уравнения: [[0.0, 0.0], [5.0, 5.0], [1.0, 1.0], [6.0, 6.0], [7.0, 7.0], [2.0, 2.0], [3.0, 3.0], [4.0, 4.0]]\n",
            "Количество итераций 46\n"
          ]
        }
      ],
      "source": [
        "n = 8\n",
        "f2_sym, x_sym = f2_symbolic(n)\n",
        "print(f2_sym)\n",
        "f2 = sym.lambdify(x_sym, f2_sym)\n",
        "df2_sym = f2_sym.diff(x_sym)\n",
        "print(df2_sym)\n",
        "df2 = sym.lambdify(x_sym, df2_sym)\n",
        "# инициализация интервала и вызов итеративной процедуры для функции 3\n",
        "intervals = ival.Interval([0, n+1])\n",
        "roots, iters = iterative_method(f2, df2, intervals, bicentered=False)\n",
        "print(\"Все корни уравнения:\", roots)\n",
        "print(\"Количество итераций\", iters)\n",
        "\n",
        "print(\"Бицентрированный метод Ньютона\")\n",
        "roots, iters = iterative_method(f2, df2, intervals, bicentered=True)\n",
        "print(\"Все корни уравнения:\", roots)\n",
        "print(\"Количество итераций\", iters)"
      ]
    },
    {
      "cell_type": "code",
      "execution_count": 36,
      "id": "9133c244",
      "metadata": {
        "id": "9133c244",
        "colab": {
          "base_uri": "https://localhost:8080/"
        },
        "outputId": "0e777fb7-f252-4018-c6ec-77085f82596a"
      },
      "outputs": [
        {
          "output_type": "stream",
          "name": "stdout",
          "text": [
            "[-0.0, -0.0]\n",
            "[-0.0, 0.0]\n",
            "[-0.0, 0.0]\n",
            "[-0.0, 0.0]\n",
            "[-0.001, 0.0]\n",
            "[-0.0, 0.0]\n",
            "[-0.0, 0.0]\n",
            "[-0.0, 0.0]\n"
          ]
        }
      ],
      "source": [
        "# проверка работы программы для функции 2\n",
        "for root in roots:\n",
        "    print(f2(root))"
      ]
    },
    {
      "cell_type": "code",
      "execution_count": 36,
      "id": "af9668c6",
      "metadata": {
        "id": "af9668c6"
      },
      "outputs": [],
      "source": []
    },
    {
      "cell_type": "code",
      "execution_count": 36,
      "id": "78f1ed51",
      "metadata": {
        "id": "78f1ed51"
      },
      "outputs": [],
      "source": []
    }
  ],
  "metadata": {
    "colab": {
      "provenance": []
    },
    "kernelspec": {
      "display_name": "Python 3 (ipykernel)",
      "language": "python",
      "name": "python3"
    },
    "language_info": {
      "codemirror_mode": {
        "name": "ipython",
        "version": 3
      },
      "file_extension": ".py",
      "mimetype": "text/x-python",
      "name": "python",
      "nbconvert_exporter": "python",
      "pygments_lexer": "ipython3",
      "version": "3.11.4"
    }
  },
  "nbformat": 4,
  "nbformat_minor": 5
}